{
 "cells": [
  {
   "cell_type": "code",
   "execution_count": 4,
   "metadata": {},
   "outputs": [],
   "source": [
    "from casatools import componentlist, image, coordsys, quanta\n",
    "from casatasks import exportfits, simalma, tclean, imstat, imfit\n",
    "\n",
    "cl = componentlist()\n",
    "ia = image()\n",
    "qa = quanta()"
   ]
  },
  {
   "cell_type": "markdown",
   "metadata": {},
   "source": [
    "## Skymodel"
   ]
  },
  {
   "cell_type": "code",
   "execution_count": 7,
   "metadata": {},
   "outputs": [],
   "source": [
    "PROJECT_NAME = \"BAND-9\"\n",
    "\n",
    "dir = \"ICRS 13h11m29.96s -01d19m18.7s\"\n",
    "\n",
    "cl.done()\n",
    "cl.addcomponent(\n",
    "    dir=dir, \n",
    "    flux=1.43e-3, \n",
    "    fluxunit='Jy', \n",
    "    freq='694GHz', \n",
    "    shape='Gaussian',\n",
    "    majoraxis=\"0.81arcsec\", \n",
    "    minoraxis=\"0.38arcsec\", \n",
    "    positionangle=\"44.0deg\"\n",
    ")\n",
    "\n",
    "ia.fromshape(f'{PROJECT_NAME}-SKYMODEL.im', [512,512,1,1], overwrite=True)\n",
    "\n",
    "cs = ia.coordsys()\n",
    "cs.setunits(['rad', 'rad', '', 'Hz'])\n",
    "\n",
    "cell_rad = qa.convert(qa.quantity(\"0.01arcsec\"), \"rad\")['value']\n",
    "cs.setincrement([-cell_rad, cell_rad], 'direction') \n",
    "\n",
    "cs.setreferencevalue([qa.convert(\"13h11m29.96s\", \"rad\")['value'],\n",
    "qa.convert(\"-01d19m18.7s\", \"rad\")['value']], type=\"direction\")\n",
    "cs.setreferencevalue(\"694GHz\", \"spectral\") \n",
    "cs.setincrement(\"7.2GHz\", \"spectral\")\n",
    "\n",
    "ia.setcoordsys(cs.torecord())\n",
    "\n",
    "ia.setbrightnessunit(\"Jy/pixel\")\n",
    "\n",
    "ia.modify(cl.torecord(), subtract=False)\n",
    "\n",
    "ia.done()\n",
    "\n",
    "exportfits(imagename=f\"{PROJECT_NAME}-SKYMODEL.im\", fitsimage=f\"{PROJECT_NAME}-SKYMODEL.fits\", overwrite=True)"
   ]
  },
  {
   "cell_type": "markdown",
   "metadata": {},
   "source": [
    "## simalma"
   ]
  },
  {
   "cell_type": "code",
   "execution_count": null,
   "metadata": {},
   "outputs": [],
   "source": [
    "simalma(\n",
    "    project=PROJECT_NAME,\n",
    "    skymodel=f'{PROJECT_NAME}-SKYMODEL.im',\n",
    "    incenter='694GHz',\n",
    "    inwidth='7.2GHz', \n",
    "    hourangle='transit',\n",
    "    integration='10s',\n",
    "    totaltime='5700s',\n",
    "    antennalist=['alma.cycle6.2.cfg'],\n",
    "    tpnant=0,\n",
    "    pwv=0.85,\n",
    "    cell='0.01arcsec',\n",
    "    indirection=dir,\n",
    "    imsize=[512,512],\n",
    "    image=True,\n",
    "    setpointings=True,\n",
    "    graphics='both',\n",
    "    verbose=True,\n",
    "    overwrite=True,\n",
    "    dryrun=False\n",
    ")"
   ]
  },
  {
   "cell_type": "markdown",
   "metadata": {},
   "source": [
    "## tclean"
   ]
  },
  {
   "cell_type": "code",
   "execution_count": null,
   "metadata": {},
   "outputs": [],
   "source": [
    "tclean(\n",
    "    vis=f'{PROJECT_NAME}/{PROJECT_NAME}.alma.cycle6.2.noisy.ms',\n",
    "    imagename='CLEAN',\n",
    "    weighting='natural',\n",
    "    cell='0.01arcsec', \n",
    "    imsize=[512,512],\n",
    "    deconvolver='multiscale',\n",
    "    niter=25000,\n",
    "    phasecenter=dir,\n",
    "    threshold='210uJy',\n",
    "    uvtaper=['0.5arcsec'],\n",
    "    interactive=False\n",
    ")"
   ]
  },
  {
   "cell_type": "markdown",
   "metadata": {},
   "source": [
    "## imview"
   ]
  },
  {
   "cell_type": "markdown",
   "metadata": {},
   "source": [
    "1. Run `imview()` in the CASA CLI, which opens a GUI. \n",
    "2. Summon a raster image and contour map on `CLEAN.image`!\n",
    "3. Open up `Adjust Data Display`.\n",
    "4. Navigate to the `CLEAN.image` tab and adjust `Relative Contour Levels`.\n",
    "5. Set `Unit Contour Level` to your `RMS`.\n",
    "6. Draw a region around the susepcted source.\n",
    "7. Navigate to the `File` tab and save your region as `SOURCE.crtf`.\n",
    "8. Repeat these actions for the `PACMAN.crtf`.\n",
    "\n",
    "Use the helper below to send results to a `DATA.json`"
   ]
  },
  {
   "cell_type": "code",
   "execution_count": null,
   "metadata": {},
   "outputs": [],
   "source": [
    "import json,numpy as np\n",
    "f=lambda d:json.dump((g:=lambda x:x.tolist()if isinstance(x,np.ndarray)else x.item()if isinstance(x,np.generic)else{x:g(v)for x,v in x.items()}if isinstance(x,dict)else[list(map(g,x))]if isinstance(x,(list,tuple))else x)(d),open(\"DATA.json\",\"w\"),indent=4)"
   ]
  },
  {
   "cell_type": "markdown",
   "metadata": {},
   "source": [
    "## imstat"
   ]
  },
  {
   "cell_type": "code",
   "execution_count": null,
   "metadata": {},
   "outputs": [],
   "source": [
    "f(imstat(imagename='CLEAN.image', region='PACMAN.crtf'))"
   ]
  },
  {
   "cell_type": "markdown",
   "metadata": {},
   "source": [
    "## imfit"
   ]
  },
  {
   "cell_type": "code",
   "execution_count": null,
   "metadata": {},
   "outputs": [],
   "source": [
    "f(imfit(imagename='CLEAN.image', region='SOURCE.crtf'))"
   ]
  }
 ],
 "metadata": {
  "kernelspec": {
   "display_name": "Python (CASA)",
   "language": "python",
   "name": "casa"
  },
  "language_info": {
   "codemirror_mode": {
    "name": "ipython",
    "version": 3
   },
   "file_extension": ".py",
   "mimetype": "text/x-python",
   "name": "python",
   "nbconvert_exporter": "python",
   "pygments_lexer": "ipython3",
   "version": "3.8.10"
  }
 },
 "nbformat": 4,
 "nbformat_minor": 4
}
