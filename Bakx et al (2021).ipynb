{
  "cells": [
    {
      "cell_type": "code",
      "execution_count": 159,
      "metadata": {},
      "outputs": [],
      "source": [
        "import numpy as np\n",
        "\n",
        "import astropy.units as u\n",
        "from astropy import constants as const\n",
        "from astropy.cosmology import Planck18 as cosmo\n",
        "from astropy.modeling.models import BlackBody\n",
        "\n",
        "import emcee"
      ]
    },
    {
      "cell_type": "code",
      "execution_count": 190,
      "metadata": {},
      "outputs": [],
      "source": [
        "# Konstanter\n",
        "h     = const.h.value\n",
        "c     = const.c.value\n",
        "k_B   = const.k_B.value\n",
        "Tcmb0 = cosmo.Tcmb0.value\n",
        "\n",
        "# Parametrar från sektioner 2 och 3.1 i Bakx et al. (2021)\n",
        "z          = 7.13\n",
        "kappa_star = (10.41 * u.cm**2 / u.g).to(u.m**2 / u.kg).value\n",
        "nu_star    = (1900  * u.GHz).to(u.Hz).value\n",
        "\n",
        "# Tabell 1 från Bakx et al. (2021)\n",
        "lambda_obs = ([0.427, 0.728, 0.873, 1.33] *  u.mm).to(u.m ).value\n",
        "flux_rest  = ([154,   180,   143,   60  ] * u.uJy).to(u.Jy).value\n",
        "flux_error = ([37,    39,    15,    11  ] * u.uJy).to(u.Jy).value\n",
        "\n",
        "# Konvertering av våglängderna i tabellen till frekvenser\n",
        "nu_obs  = c / lambda_obs\n",
        "\n",
        "# Våglängder och frekvenser i viloram\n",
        "lambda_rest = lambda_obs / (1 + z)\n",
        "nu_rest     = nu_obs     * (1 + z)\n",
        "\n",
        "# Svartkroppsstrålning\n",
        "B = lambda T, nu: (2 * h * nu**3 / c**2) / (np.exp(h * nu / (k_B * T)) - 1.0)\n",
        "\n",
        "# Rödförskjutning av bakgrundsstrålning\n",
        "Tcmb = lambda z: Tcmb0 * (1 + z)\n",
        "\n",
        "# En konstant som används av ekv (8) i Sommovigo et al. (2021)\n",
        "g_z = ((1 + z) / (cosmo.luminosity_distance(z)**2)).to(u.m**-2).value\n",
        "\n",
        "# Konvertera M_sun till kg\n",
        "M_sun_to_kg = lambda M_sun: (1 * u.M_sun).to(u.kg).value * M_sun"
      ]
    },
    {
      "cell_type": "code",
      "execution_count": 193,
      "metadata": {
        "id": "yI-sEg4RAM7F"
      },
      "outputs": [],
      "source": [
        "def SED(nu, T_d, beta_d, M_d): \n",
        "    # Från ekv (12) i da Cunha et al. (2013)\n",
        "    T_corrected = (T_d**(4 + beta_d) + Tcmb0**(4 + beta_d) * ((1 + z)**(4 + beta_d) - 1))**(1 / (4 + beta_d))\n",
        "\n",
        "    # Från ekv (8) i Sommovigo et al. (2021) som redan bakar in ekv (18) i da Cunha et al. (2013)\n",
        "    kappa_nu = kappa_star * (nu / nu_star) ** beta_d\n",
        "    flux = g_z * M_sun_to_kg(M_d) * kappa_nu * (B(T_corrected, nu) - B(Tcmb(z), nu))\n",
        "\n",
        "    # Konvertera (W * m^-2 * Hz^-1) till Jy\n",
        "    return flux * 1e26"
      ]
    },
    {
      "cell_type": "code",
      "execution_count": 171,
      "metadata": {},
      "outputs": [],
      "source": [
        "def log_likelihood(params, nu, flux, flux_error):\n",
        "    T_d, beta_d, M_d = params\n",
        "    flux_model = SED(nu, T_d, beta_d, M_d)\n",
        "    residuals = (flux - flux_model) / flux_error\n",
        "    return -0.5 * np.sum(residuals**2)\n",
        "\n",
        "def log_prior(params):\n",
        "    T_d, beta_d, M_d = params\n",
        "    if 25 < T_d < 80 and 0.2 < beta_d < 2.5 and 1e6 < M_d < 1e12:\n",
        "        return 0.0\n",
        "    return -np.inf\n",
        "\n",
        "def log_probability(params, nu, flux, flux_err):\n",
        "    lp = log_prior(params)\n",
        "    if not np.isfinite(lp):\n",
        "        return -np.inf\n",
        "    return lp + log_likelihood(params, nu, flux, flux_err)"
      ]
    },
    {
      "cell_type": "code",
      "execution_count": 200,
      "metadata": {},
      "outputs": [
        {
          "name": "stderr",
          "output_type": "stream",
          "text": [
            "100%|██████████| 10000/10000 [00:25<00:00, 386.71it/s]"
          ]
        },
        {
          "name": "stdout",
          "output_type": "stream",
          "text": [
            "T_dust = 42.01 +11.82/-6.96 K\n",
            "beta = 1.62 +0.59/-0.70\n",
            "M_dust = 1.66e+07 +1.22e+07/-7.10e+06 M_sun\n"
          ]
        },
        {
          "name": "stderr",
          "output_type": "stream",
          "text": [
            "\n"
          ]
        }
      ],
      "source": [
        "n_walkers = 64\n",
        "n_steps = 10000\n",
        "pos = [np.random.uniform([30, 0.5, 1e6], [60, 2.5, 1e7]) for _ in range(n_walkers)]\n",
        "\n",
        "sampler = emcee.EnsembleSampler(n_walkers, 3, log_probability, args=(nu_rest, flux_rest, flux_error))\n",
        "sampler.run_mcmc(pos, n_steps, progress=True)\n",
        "\n",
        "flat_samples = sampler.get_chain(discard=2000, thin=15, flat=True)\n",
        "T_dust_mcmc, beta_mcmc, M_dust_mcmc = np.median(flat_samples, axis=0)\n",
        "\n",
        "T_dust_err = np.percentile(flat_samples[:, 0], [16, 84])\n",
        "beta_err = np.percentile(flat_samples[:, 1], [16, 84])\n",
        "M_dust_err_corr = np.percentile(flat_samples[:, 2], [16, 84])\n",
        "M_dust_mcmc_corr =  M_dust_mcmc\n",
        "\n",
        "print(f'T_dust = {T_dust_mcmc:.2f} +{T_dust_err[1]-T_dust_mcmc:.2f}/-{T_dust_mcmc-T_dust_err[0]:.2f} K')\n",
        "print(f'beta = {beta_mcmc:.2f} +{beta_err[1]-beta_mcmc:.2f}/-{beta_mcmc-beta_err[0]:.2f}')\n",
        "print(f'M_dust = {M_dust_mcmc_corr:.2e} +{M_dust_err_corr[1]-M_dust_mcmc_corr:.2e}/-{M_dust_mcmc_corr-M_dust_err_corr[0]:.2e} M_sun')"
      ]
    }
  ],
  "metadata": {
    "colab": {
      "provenance": []
    },
    "kernelspec": {
      "display_name": "Python 3",
      "name": "python3"
    },
    "language_info": {
      "codemirror_mode": {
        "name": "ipython",
        "version": 3
      },
      "file_extension": ".py",
      "mimetype": "text/x-python",
      "name": "python",
      "nbconvert_exporter": "python",
      "pygments_lexer": "ipython3",
      "version": "3.12.9"
    }
  },
  "nbformat": 4,
  "nbformat_minor": 0
}
