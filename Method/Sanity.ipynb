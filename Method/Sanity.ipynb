{
 "cells": [
  {
   "cell_type": "code",
   "execution_count": null,
   "id": "ea276b4b",
   "metadata": {},
   "outputs": [],
   "source": [
    "from model import Model\n",
    "\n",
    "import astropy.units as u"
   ]
  },
  {
   "cell_type": "markdown",
   "id": "902943de",
   "metadata": {},
   "source": [
    "## Sanity Check"
   ]
  },
  {
   "cell_type": "code",
   "execution_count": null,
   "id": "83dbc6d8",
   "metadata": {},
   "outputs": [
    {
     "data": {
      "text/markdown": [
       "$$ \\begin{array}{r|c|c|c}\n",
       " & \\text{Mean} & + & - \\\\\n",
       "\\hline\n",
       "T_d \\, [\\mathrm{K}] & 42.09 & 54.48 & 42.09 \\\\\n",
       "\\beta_d & 1.61 & 2.22 & 1.61 \\\\\n",
       "M_d \\, [M_\\odot] & 1.7\\times10^{7} & 2.9\\times10^{7} & 1.7\\times10^{7} \\\\\n",
       "\\end{array} $$"
      ],
      "text/plain": [
       "<IPython.core.display.Markdown object>"
      ]
     },
     "metadata": {},
     "output_type": "display_data"
    }
   ],
   "source": [
    "# Tabell 1 från Bakx et al. (2021)\n",
    "lambda_obs = ([0.427, 0.728, 0.873, 1.33]) * u.mm\n",
    "flux_rest  = ([154,   180,   143,   60  ]) * u.uJy\n",
    "flux_error = ([37,    39,    15,    11  ]) * u.uJy\n",
    "\n",
    "m = Model(z=7.13, n_steps=20000)\n",
    "\n",
    "m(lambda_obs, flux_rest, flux_error)\n",
    "\n",
    "m.print()"
   ]
  }
 ],
 "metadata": {
  "kernelspec": {
   "display_name": "Python 3",
   "language": "python",
   "name": "python3"
  },
  "language_info": {
   "codemirror_mode": {
    "name": "ipython",
    "version": 3
   },
   "file_extension": ".py",
   "mimetype": "text/x-python",
   "name": "python",
   "nbconvert_exporter": "python",
   "pygments_lexer": "ipython3",
   "version": "3.12.10"
  }
 },
 "nbformat": 4,
 "nbformat_minor": 5
}
