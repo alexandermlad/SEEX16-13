{
  "cells": [
    {
      "cell_type": "code",
      "execution_count": 6,
      "metadata": {},
      "outputs": [],
      "source": [
        "import numpy as np\n",
        "\n",
        "import astropy.units as u\n",
        "from astropy import constants as const\n",
        "from astropy.cosmology import Planck18 as cosmo\n",
        "\n",
        "import emcee"
      ]
    },
    {
      "cell_type": "code",
      "execution_count": 7,
      "metadata": {},
      "outputs": [],
      "source": [
        "# Konstanter\n",
        "h     = const.h.value\n",
        "c     = const.c.value\n",
        "k_B   = const.k_B.value\n",
        "Tcmb0 = cosmo.Tcmb0.value\n",
        "\n",
        "# Parametrar från sektioner 2 och 3.1 i Bakx et al. (2021)\n",
        "z          = 7.13\n",
        "kappa_star = (10.41 * u.cm**2 / u.g).to(u.m**2 / u.kg).value\n",
        "nu_star    = (1900  * u.GHz).to(u.Hz).value\n",
        "\n",
        "# Tabell 1 från Bakx et al. (2021)\n",
        "lambda_obs = ([0.427, 0.728, 0.873, 1.33] *  u.mm).to(u.m ).value\n",
        "flux_rest  = ([154,   180,   143,   60  ] * u.uJy).to(u.Jy).value\n",
        "flux_error = ([37,    39,    15,    11  ] * u.uJy).to(u.Jy).value\n",
        "\n",
        "# Konvertering av våglängderna i tabellen till frekvenser\n",
        "nu_obs  = c / lambda_obs\n",
        "\n",
        "# Våglängder och frekvenser i viloram\n",
        "lambda_rest = lambda_obs / (1 + z)\n",
        "nu_rest     = nu_obs     * (1 + z)"
      ]
    },
    {
      "cell_type": "code",
      "execution_count": 8,
      "metadata": {
        "id": "yI-sEg4RAM7F"
      },
      "outputs": [],
      "source": [
        "# Svartkroppsstrålning\n",
        "B = lambda T, nu: (2 * h * nu**3 / c**2) / (np.exp(h * nu / (k_B * T)) - 1.0)\n",
        "\n",
        "# Rödförskjutning av bakgrundsstrålning\n",
        "Tcmb = lambda z: Tcmb0 * (1 + z)\n",
        "\n",
        "# En förberäknad konstant!\n",
        "g_z = ((1 + z) / (cosmo.luminosity_distance(z)**2)).to(u.m**-2).value\n",
        "\n",
        "# Konvertera M_sun till kg\n",
        "M_sun_to_kg = lambda M_sun: (1 * u.M_sun).to(u.kg).value * M_sun\n",
        "\n",
        "def SED(nu, T_d, beta_d, M_d): \n",
        "    # Från ekv (12) i da Cunha et al. (2013)\n",
        "    T_corrected = (T_d**(4 + beta_d) + Tcmb0**(4 + beta_d) * ((1 + z)**(4 + beta_d) - 1))**(1 / (4 + beta_d))\n",
        "\n",
        "    # Från ekv (8) i Sommovigo et al. (2021) som redan bakar in ekv (18) i da Cunha et al. (2013)\n",
        "    kappa_nu = kappa_star * (nu / nu_star) ** beta_d\n",
        "    flux = g_z * M_sun_to_kg(M_d) * kappa_nu * (B(T_corrected, nu) - B(Tcmb(z), nu))\n",
        "\n",
        "    # Konvertera (W * m^-2 * Hz^-1) till Jy\n",
        "    return flux * 1e26"
      ]
    },
    {
      "cell_type": "code",
      "execution_count": 9,
      "metadata": {},
      "outputs": [],
      "source": [
        "def log_prob(params):\n",
        "    T_d, beta_d, M_d = params\n",
        "    if not (10 < T_d < 100 and 0.2 < beta_d < 2.5 and 1e5 < M_d < 1e10):\n",
        "        return -np.inf\n",
        "    \n",
        "    flux_model = SED(nu_rest, T_d, beta_d, M_d)\n",
        "    residuals = (flux_rest - flux_model) / flux_error\n",
        "    return -0.5 * np.sum(residuals**2)"
      ]
    },
    {
      "cell_type": "code",
      "execution_count": 10,
      "metadata": {},
      "outputs": [
        {
          "name": "stderr",
          "output_type": "stream",
          "text": [
            "100%|██████████| 10000/10000 [00:28<00:00, 357.02it/s]"
          ]
        },
        {
          "name": "stdout",
          "output_type": "stream",
          "text": [
            "T_d    = 42      +12/-7\n",
            "beta_d = 1.62    +0.59/-0.74\n",
            "M_d    = 1.7e+07 +1.3e+07/-7.3e+06\n"
          ]
        },
        {
          "name": "stderr",
          "output_type": "stream",
          "text": [
            "\n"
          ]
        }
      ],
      "source": [
        "n_walkers = 64\n",
        "\n",
        "pos = [[np.random.normal(40.0, 5.0), np.random.normal(1.8, 0.2), 10**(np.random.normal(np.log10(1e7), 0.3))] for _ in range(n_walkers)]\n",
        "\n",
        "sampler = emcee.EnsembleSampler(n_walkers, 3, log_prob)\n",
        "sampler.run_mcmc(pos, 10000, progress=True)\n",
        "\n",
        "flat_samples     = sampler.get_chain(discard=2000, thin=30, flat=True)\n",
        "T_d, beta_d, M_d = np.median(flat_samples, axis=0)\n",
        "\n",
        "T_d_error    = np.percentile(flat_samples[:, 0], [16, 84])\n",
        "beta_d_error = np.percentile(flat_samples[:, 1], [16, 84])\n",
        "M_d_error    = np.percentile(flat_samples[:, 2], [16, 84])\n",
        "\n",
        "print(f'T_d    = {T_d:.0f}      +{T_d_error[1]-T_d:.0f}/-{T_d-T_d_error[0]:.0f}')\n",
        "print(f'beta_d = {beta_d:.2f}    +{beta_d_error[1]-beta_d:.2f}/-{beta_d-beta_d_error[0]:.2f}')\n",
        "print(f'M_d    = {M_d:.1e} +{M_d_error[1]-M_d:.1e}/-{M_d-M_d_error[0]:.1e}')"
      ]
    }
  ],
  "metadata": {
    "colab": {
      "provenance": []
    },
    "kernelspec": {
      "display_name": "Python 3",
      "name": "python3"
    },
    "language_info": {
      "codemirror_mode": {
        "name": "ipython",
        "version": 3
      },
      "file_extension": ".py",
      "mimetype": "text/x-python",
      "name": "python",
      "nbconvert_exporter": "python",
      "pygments_lexer": "ipython3",
      "version": "3.12.9"
    }
  },
  "nbformat": 4,
  "nbformat_minor": 0
}
