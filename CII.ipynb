{
 "cells": [
  {
   "cell_type": "code",
   "execution_count": 1,
   "metadata": {},
   "outputs": [],
   "source": [
    "import numpy as np\n",
    "\n",
    "from astropy.cosmology import Planck18 as cosmo\n",
    "from astropy import units as u"
   ]
  },
  {
   "cell_type": "code",
   "execution_count": 2,
   "metadata": {},
   "outputs": [],
   "source": [
    "z          = 7.13              \n",
    "L_CII      = 6.1e8                 * u.Lsun               \n",
    "F_nu_0     = 0.06                  * u.mJy            \n",
    "T_0        = 91.86                 * u.K    \n",
    "kappa_0 = 10.41                    * u.cm**2 / u.g\n",
    "y_Z        = 2                     * u.M_sun\n",
    "nu_SN      = (1 / 53)              / u.M_sun\n",
    "T_CMB      = cosmo.Tcmb0 * (1 + z)\n",
    "g_z        = (1 + z) / cosmo.luminosity_distance(z).to(u.cm)**2"
   ]
  },
  {
   "cell_type": "code",
   "execution_count": 3,
   "metadata": {},
   "outputs": [],
   "source": [
    "# Fiduciella värden\n",
    "y         = (3.0 - 1.5) / 2 + 1.5\n",
    "Sigma_SFR = 15     * u.M_sun / (u.kpc**2 * u.yr) \n",
    "M_star    = 1.0e10 * u.M_sun                     \n",
    "\n",
    "# Ekv (15) i Sommovigo et al. (2021) med det antagna värdet av M_star\n",
    "M_d_max   = (2.0  * u.M_sun) * (M_star / (53.0 * u.M_sun)) "
   ]
  },
  {
   "cell_type": "code",
   "execution_count": 4,
   "metadata": {},
   "outputs": [],
   "source": [
    "def CII(kappa_s, Z):\n",
    "\n",
    "    # Ekv (1) i Sommovigo et al. (2021)\n",
    "    D = (1/162) * Z \n",
    "    \n",
    "    # Ekv (7) i Sommovigo et al. (2021)\n",
    "    C = 32.47 * (u.M_sun / u.yr / u.kpc**2)**0.29\n",
    "    alpha_CII = (C * kappa_s**(-5/7) * (y**2) * (Sigma_SFR**(-0.29))) * (u.M_sun / u.Lsun)\n",
    "\n",
    "    # Ekv (14) i Sommovigo et al. (2021)\n",
    "    A = (g_z * alpha_CII * D * L_CII * kappa_0).to(u.dimensionless_unscaled)\n",
    "    F_tilde = 0.98e-16 * (F_nu_0 / u.mJy)\n",
    "    \n",
    "    # Ekv (13) i Sommovigo et al. (2021)\n",
    "    B_T_CMB = 1.0 / (np.exp(T_0 / T_CMB) - 1.0)\n",
    "    f = B_T_CMB + F_tilde / A\n",
    "    \n",
    "    # Ekv (12) i Sommovigo et al. (2021)\n",
    "    T_d =  T_0 / np.log(1 + 1 / f)\n",
    "\n",
    "    # Från det andra stycket i sektion 3.2 av Bakx et al. (2021)\n",
    "    M_d = D * alpha_CII * L_CII\n",
    "\n",
    "    # Villkor (i) i Bakx et al. (2021)\n",
    "    if M_d > M_d_max:\n",
    "        T_d = np.nan * u.K \n",
    "    \n",
    "    # Från fotnot (3) i Bakx et al. (2021) och Dayal et al. (2010)\n",
    "    SFR_FIR = 1.73 * 10**(-10) * M_d*(T_d / (6.73 * u.K))**6 * u.yr**(-1)\n",
    "\n",
    "    # Ekv (8) i De Looze et al. (2014)\n",
    "    SFR_CII = 10**(-7.06) * L_CII * (u.M_sun / (u.Lsun * u.yr))\n",
    "\n",
    "    # Villkor (ii) i Bakx et al. (2021)\n",
    "    if SFR_FIR > 10 * SFR_CII:\n",
    "        T_d = np.nan * u.K\n",
    "\n",
    "    return T_d.value, M_d.value"
   ]
  },
  {
   "cell_type": "code",
   "execution_count": 5,
   "metadata": {},
   "outputs": [],
   "source": [
    "N_samples = 10000\n",
    "\n",
    "k_s = np.random.uniform(1, 50, N_samples)\n",
    "Z   = np.random.uniform(0.2, 1.0, N_samples)\n",
    "T_d = np.zeros(N_samples)\n",
    "m_d = np.zeros(N_samples)\n",
    "\n",
    "# Det sista stycket i sektion 3.2 från Bakx et al. (2021) \n",
    "for i in range(N_samples):\n",
    "    T_d[i], m_d[i] = CII(k_s[i], Z[i])"
   ]
  },
  {
   "cell_type": "code",
   "execution_count": 6,
   "metadata": {},
   "outputs": [
    {
     "name": "stdout",
     "output_type": "stream",
     "text": [
      "T_d  [Median]: 39.7 K\n",
      "(-1σ) - (+1σ): 32.1 - 48.2 K\n",
      "\n",
      "m_d  [Median]: 1.7e+07 Msun\n",
      "(-1σ) - (+1σ): 9.1e+06 - 3.7e+07 Msun\n"
     ]
    }
   ],
   "source": [
    "median_T_d = np.nanmedian(T_d)\n",
    "lower_T_d  = np.nanpercentile(T_d, 16)\n",
    "upper_T_d  = np.nanpercentile(T_d, 84)\n",
    "\n",
    "median_m_d = np.nanmedian(m_d)\n",
    "lower_m_d  = np.nanpercentile(m_d, 16)\n",
    "upper_m_d  = np.nanpercentile(m_d, 84)\n",
    "\n",
    "print(\"T_d  [Median]: {:.1f} K\".format(median_T_d))\n",
    "print(\"(-1σ) - (+1σ): {:.1f} - {:.1f} K\\n\".format(lower_T_d, upper_T_d))\n",
    "print(\"m_d  [Median]: {:.1e} Msun\".format(median_m_d))\n",
    "print(\"(-1σ) - (+1σ): {:.1e} - {:.1e} Msun\".format(lower_m_d, upper_m_d))"
   ]
  }
 ],
 "metadata": {
  "kernelspec": {
   "display_name": "Python 3",
   "language": "python",
   "name": "python3"
  },
  "language_info": {
   "codemirror_mode": {
    "name": "ipython",
    "version": 3
   },
   "file_extension": ".py",
   "mimetype": "text/x-python",
   "name": "python",
   "nbconvert_exporter": "python",
   "pygments_lexer": "ipython3",
   "version": "3.12.9"
  }
 },
 "nbformat": 4,
 "nbformat_minor": 2
}
